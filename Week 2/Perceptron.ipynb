{
 "cells": [
  {
   "cell_type": "code",
   "execution_count": 1,
   "metadata": {},
   "outputs": [],
   "source": [
    "import numpy as np"
   ]
  },
  {
   "cell_type": "code",
   "execution_count": 2,
   "metadata": {},
   "outputs": [
    {
     "name": "stdout",
     "output_type": "stream",
     "text": [
      "[-0.09033784  0.35677447  1.60237383]\n"
     ]
    }
   ],
   "source": [
    "wt = np.random.randn(3)\n",
    "bias = 2\n",
    "\n",
    "print(wt)"
   ]
  },
  {
   "cell_type": "code",
   "execution_count": 3,
   "metadata": {},
   "outputs": [
    {
     "name": "stdout",
     "output_type": "stream",
     "text": [
      "Enter shape of fruit round\n",
      "Shape detected is  1\n"
     ]
    }
   ],
   "source": [
    "# Accepted values are round and ellipse\n",
    "\n",
    "shape = 1 if input('Enter shape of fruit ') == 'round' else -1\n",
    "print('Shape detected is ', shape)"
   ]
  },
  {
   "cell_type": "code",
   "execution_count": 4,
   "metadata": {},
   "outputs": [
    {
     "name": "stdout",
     "output_type": "stream",
     "text": [
      "Enter texture of fruit smooth\n",
      "Color detected is  1\n"
     ]
    }
   ],
   "source": [
    "texture = 1 if input('Enter texture of fruit ') == 'smooth' else -1\n",
    "print('Color detected is ', texture)"
   ]
  },
  {
   "cell_type": "code",
   "execution_count": 5,
   "metadata": {},
   "outputs": [
    {
     "name": "stdout",
     "output_type": "stream",
     "text": [
      "Enter weight 30\n",
      "Weight detected is  -1\n"
     ]
    }
   ],
   "source": [
    "weight = 1 if int(input('Enter weight ')) > 50 else -1\n",
    "print('Weight detected is ', weight)"
   ]
  },
  {
   "cell_type": "code",
   "execution_count": 6,
   "metadata": {},
   "outputs": [],
   "source": [
    "input_vector = np.array([shape, texture, weight])"
   ]
  },
  {
   "cell_type": "code",
   "execution_count": 7,
   "metadata": {},
   "outputs": [],
   "source": [
    "net_input = (wt * input_vector).sum() + bias"
   ]
  },
  {
   "cell_type": "code",
   "execution_count": 8,
   "metadata": {},
   "outputs": [],
   "source": [
    "def perceptron(x):\n",
    "    threshold = 0\n",
    "    if x > threshold:\n",
    "        return 1\n",
    "    else:\n",
    "        return -1"
   ]
  },
  {
   "cell_type": "code",
   "execution_count": 9,
   "metadata": {},
   "outputs": [
    {
     "name": "stdout",
     "output_type": "stream",
     "text": [
      "Apple\n"
     ]
    }
   ],
   "source": [
    "res = perceptron(net_input)\n",
    "\n",
    "if res == 1:\n",
    "    print('Apple')\n",
    "else:\n",
    "    print('Orange')"
   ]
  },
  {
   "cell_type": "code",
   "execution_count": null,
   "metadata": {},
   "outputs": [],
   "source": []
  }
 ],
 "metadata": {
  "kernelspec": {
   "display_name": "Python 3",
   "language": "python",
   "name": "python3"
  },
  "language_info": {
   "codemirror_mode": {
    "name": "ipython",
    "version": 3
   },
   "file_extension": ".py",
   "mimetype": "text/x-python",
   "name": "python",
   "nbconvert_exporter": "python",
   "pygments_lexer": "ipython3",
   "version": "3.6.8"
  }
 },
 "nbformat": 4,
 "nbformat_minor": 2
}
