{
 "cells": [
  {
   "cell_type": "markdown",
   "metadata": {},
   "source": [
    "# Error Assessment"
   ]
  },
  {
   "cell_type": "markdown",
   "metadata": {},
   "source": [
    " - Mean Squared Error (MSE) = 1/n $\\sum$\n",
    " - Root Mean Squared Error (RMSE)\n",
    " - Relative Absolute Error (RAE)\n",
    " - Relative Square Error (RSE)\n",
    " - R Square Error"
   ]
  },
  {
   "cell_type": "markdown",
   "metadata": {},
   "source": [
    "### Loss\n",
    " - 0-1 Loss : Target is always categorical value"
   ]
  },
  {
   "cell_type": "markdown",
   "metadata": {},
   "source": [
    "### Exercise\n",
    "Write a program to compute 0-1 Loss and MSE (consider values as categorical) <br/>\n",
    "given Target = [0, 0, 0, 1, 1, 1, 0, 0, 1, 1] <br/>\n",
    "      predicted = [0, 0, 1, 1, 1, 1, 1, 1, 0, 0]"
   ]
  },
  {
   "cell_type": "code",
   "execution_count": 1,
   "metadata": {},
   "outputs": [],
   "source": [
    "target = [0, 0, 0, 1, 1, 1, 0, 0, 1, 1]\n",
    "predicted = [0, 0, 1, 1, 1, 1, 1, 1, 0, 0]"
   ]
  },
  {
   "cell_type": "code",
   "execution_count": 2,
   "metadata": {},
   "outputs": [
    {
     "name": "stdout",
     "output_type": "stream",
     "text": [
      "T P  L\n",
      "------\n",
      "0 0  1\n",
      "0 0  1\n",
      "0 1  0\n",
      "1 1  1\n",
      "1 1  1\n",
      "1 1  1\n",
      "0 1  0\n",
      "0 1  0\n",
      "1 0  0\n",
      "1 0  0\n",
      "0-1 Loss is 5\n"
     ]
    }
   ],
   "source": [
    "miss_match = 0\n",
    "print('T P  L') # Target Predicted Loss\n",
    "print('------')\n",
    "for x, y in zip(target, predicted):\n",
    "    print(str(x) + ' ' + str(y) + ' ', end=' ')\n",
    "    print(\"1\" if x == y else \"0\")\n",
    "    if x == y:\n",
    "        miss_match += 1\n",
    "print ('0-1 Loss is', miss_match)"
   ]
  },
  {
   "cell_type": "markdown",
   "metadata": {},
   "source": [
    "## Calculating mean squared error"
   ]
  },
  {
   "cell_type": "code",
   "execution_count": 4,
   "metadata": {},
   "outputs": [
    {
     "name": "stdout",
     "output_type": "stream",
     "text": [
      "Mean squared Error  0.5\n"
     ]
    }
   ],
   "source": [
    "error = 0\n",
    "for x, y in zip(target, predicted):\n",
    "    error += (x - y) ** 2\n",
    "error = error / len(target)\n",
    "print('Mean squared Error ', error)"
   ]
  },
  {
   "cell_type": "code",
   "execution_count": null,
   "metadata": {},
   "outputs": [],
   "source": []
  }
 ],
 "metadata": {
  "kernelspec": {
   "display_name": "Python 3",
   "language": "python",
   "name": "python3"
  },
  "language_info": {
   "codemirror_mode": {
    "name": "ipython",
    "version": 3
   },
   "file_extension": ".py",
   "mimetype": "text/x-python",
   "name": "python",
   "nbconvert_exporter": "python",
   "pygments_lexer": "ipython3",
   "version": "3.6.8"
  }
 },
 "nbformat": 4,
 "nbformat_minor": 2
}
